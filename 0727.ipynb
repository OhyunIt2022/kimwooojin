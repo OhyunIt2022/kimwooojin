{
  "nbformat": 4,
  "nbformat_minor": 0,
  "metadata": {
    "colab": {
      "name": "0727.ipynb",
      "provenance": []
    },
    "kernelspec": {
      "name": "python3",
      "display_name": "Python 3"
    },
    "language_info": {
      "name": "python"
    }
  },
  "cells": [
    {
      "cell_type": "code",
      "execution_count": null,
      "metadata": {
        "id": "QDCOKD1zDEcq"
      },
      "outputs": [],
      "source": [
        "while True:\n",
        "  사칙연산=input('사칙연산 기호(+,-,*,/)를 입력해주세요')\n",
        "  a=int(input('첫번째 수 입력'))\n",
        "  b=int(input('두번째 수 입력'))\n",
        "  if 사칙연산=='+':\n",
        "    print('더하기')\n",
        "    print(a+b)\n",
        "  elif 사칙연산=='-':\n",
        "    print('빼기')\n",
        "    print(a-b)\n",
        "  elif 사칙연산=='*':\n",
        "    print('곱하기')\n",
        "    print(a*b)\n",
        "  elif 사칙연산=='/':\n",
        "    print('나누기')\n",
        "    print(a/b)\n",
        "\n",
        "    \n",
        "  종료=input('1을 누르면 종료합니다')\n",
        "  if 종료=='1':\n",
        "    print('종료')\n",
        "    break"
      ]
    },
    {
      "cell_type": "code",
      "source": [
        "def 값입력하기():\n",
        "  사칙연산=input('사칙연산 기호(+,-,*,/)를 입력해주세요')\n",
        "  a=int(input('첫번째 수 입력'))\n",
        "  b=int(input('두번째 수 입력'))\n",
        "  return 사칙연산,a,b"
      ],
      "metadata": {
        "id": "FOW8tdG6VeUM"
      },
      "execution_count": 60,
      "outputs": []
    },
    {
      "cell_type": "code",
      "source": [
        "사칙연산,a,b= 값입력하기()"
      ],
      "metadata": {
        "colab": {
          "base_uri": "https://localhost:8080/"
        },
        "id": "2C1nol9QVp3J",
        "outputId": "627cdcda-ee94-4e68-ff5a-028193dc4ca1"
      },
      "execution_count": 61,
      "outputs": [
        {
          "name": "stdout",
          "output_type": "stream",
          "text": [
            "사칙연산 기호(+,-,*,/)를 입력해주세요/\n",
            "첫번째 수 입력3\n",
            "두번째 수 입력2\n"
          ]
        }
      ]
    },
    {
      "cell_type": "code",
      "source": [
        "\n",
        "print(사칙연산,a,b)"
      ],
      "metadata": {
        "colab": {
          "base_uri": "https://localhost:8080/"
        },
        "id": "UqNlvpqgV2in",
        "outputId": "82abe59e-b190-426a-ccde-6fdb0a30c933"
      },
      "execution_count": 62,
      "outputs": [
        {
          "output_type": "stream",
          "name": "stdout",
          "text": [
            "/ 3 2\n"
          ]
        }
      ]
    },
    {
      "cell_type": "code",
      "source": [
        "def 계산및출력(사칙연산,a,b):\n",
        "  if 사칙연산=='+':\n",
        "    print('더하기')\n",
        "    print(a+b)\n",
        "  elif 사칙연산=='-':\n",
        "    print('빼기')\n",
        "    print(a-b)\n",
        "  elif 사칙연산=='*':\n",
        "    print('곱하기')\n",
        "    print(a*b)\n",
        "  elif 사칙연산=='/':\n",
        "    print('나누기')\n",
        "    print(a/b)\n",
        "    "
      ],
      "metadata": {
        "id": "Rw7tH6dfV2lz"
      },
      "execution_count": 63,
      "outputs": []
    },
    {
      "cell_type": "code",
      "source": [
        "계산및출력(사칙연산='+',a=10,b=20)"
      ],
      "metadata": {
        "colab": {
          "base_uri": "https://localhost:8080/"
        },
        "id": "Xztn3P-6W-YZ",
        "outputId": "bfce3e55-e845-4004-c94f-fccb2ddc03e8"
      },
      "execution_count": 64,
      "outputs": [
        {
          "output_type": "stream",
          "name": "stdout",
          "text": [
            "더하기\n",
            "30\n"
          ]
        }
      ]
    },
    {
      "cell_type": "code",
      "source": [
        "def 종료여부확인():\n",
        "  종료=input('1을 누르면 종료합니다')\n",
        "  return 종료=='1'"
      ],
      "metadata": {
        "id": "nyiF9X4bXZdZ"
      },
      "execution_count": 65,
      "outputs": []
    },
    {
      "cell_type": "code",
      "source": [
        "종료=종료여부확인()\n",
        "print(종료)"
      ],
      "metadata": {
        "colab": {
          "base_uri": "https://localhost:8080/"
        },
        "id": "6lnaIGp8XnCK",
        "outputId": "3e5d98dc-bbc4-4a4a-8a15-dab3feddcb9a"
      },
      "execution_count": 67,
      "outputs": [
        {
          "output_type": "stream",
          "name": "stdout",
          "text": [
            "1을 누르면 종료합니다1\n",
            "True\n"
          ]
        }
      ]
    },
    {
      "cell_type": "code",
      "source": [
        "while True:\n",
        "  기호, a,b=값입력하기()\n",
        "  계산및출력(기호, a,b)\n",
        "  종료=종료여부확인()\n",
        "  if 종료:\n",
        "    break"
      ],
      "metadata": {
        "colab": {
          "base_uri": "https://localhost:8080/"
        },
        "id": "fV7hJkRmYkGd",
        "outputId": "4e48f6c1-b219-4a9f-91c8-8e8a9b28dcee"
      },
      "execution_count": 69,
      "outputs": [
        {
          "name": "stdout",
          "output_type": "stream",
          "text": [
            "사칙연산 기호(+,-,*,/)를 입력해주세요-\n",
            "첫번째 수 입력10\n",
            "두번째 수 입력30\n",
            "빼기\n",
            "-20\n",
            "1을 누르면 종료합니다1\n"
          ]
        }
      ]
    },
    {
      "cell_type": "code",
      "source": [
        "def 계산기():\n",
        "  while True:\n",
        "    기호, a,b=값입력하기()\n",
        "    계산및출력(기호, a,b)\n",
        "    종료=종료여부확인()\n",
        "    if 종료:\n",
        "      break"
      ],
      "metadata": {
        "id": "M_4fhspAZrNO"
      },
      "execution_count": 70,
      "outputs": []
    },
    {
      "cell_type": "code",
      "source": [
        "계산기()"
      ],
      "metadata": {
        "colab": {
          "base_uri": "https://localhost:8080/"
        },
        "id": "sGLt0W2iZ0jS",
        "outputId": "d01e4d79-6301-4295-a415-36961395f6e8"
      },
      "execution_count": 73,
      "outputs": [
        {
          "name": "stdout",
          "output_type": "stream",
          "text": [
            "사칙연산 기호(+,-,*,/)를 입력해주세요-\n",
            "첫번째 수 입력10\n",
            "두번째 수 입력10\n",
            "빼기\n",
            "0\n",
            "1을 누르면 종료합니다1\n"
          ]
        }
      ]
    },
    {
      "cell_type": "code",
      "source": [
        "def hello():\n",
        "  print('안녕하세요')"
      ],
      "metadata": {
        "id": "UDTinTJ8IUxC"
      },
      "execution_count": 4,
      "outputs": []
    },
    {
      "cell_type": "code",
      "source": [
        "hello()"
      ],
      "metadata": {
        "colab": {
          "base_uri": "https://localhost:8080/"
        },
        "id": "afP2RFmNLJ0E",
        "outputId": "255778a3-f824-4ad9-a87a-cc4514f5bf86"
      },
      "execution_count": 5,
      "outputs": [
        {
          "output_type": "stream",
          "name": "stdout",
          "text": [
            "안녕하세요\n"
          ]
        }
      ]
    },
    {
      "cell_type": "code",
      "source": [
        "def helloToName(name):\n",
        "  print(name,'님 안녕하세요')"
      ],
      "metadata": {
        "id": "vtBCOURKLL2D"
      },
      "execution_count": 13,
      "outputs": []
    },
    {
      "cell_type": "code",
      "source": [
        "helloToName('김우진')"
      ],
      "metadata": {
        "colab": {
          "base_uri": "https://localhost:8080/"
        },
        "id": "O1hu30VeLf3O",
        "outputId": "ac20898b-fb65-4626-dbec-6be90b4aaa36"
      },
      "execution_count": 14,
      "outputs": [
        {
          "output_type": "stream",
          "name": "stdout",
          "text": [
            "김우진 님 안녕하세요\n"
          ]
        }
      ]
    },
    {
      "cell_type": "code",
      "source": [
        "def add(num,num2):\n",
        "  result=num+num2"
      ],
      "metadata": {
        "id": "vnPD8nLdLi3O"
      },
      "execution_count": 15,
      "outputs": []
    },
    {
      "cell_type": "code",
      "source": [
        "add(1,2)"
      ],
      "metadata": {
        "id": "9OQO4CNtL2aR"
      },
      "execution_count": 16,
      "outputs": []
    },
    {
      "cell_type": "code",
      "source": [
        "addResult=add(1,2)"
      ],
      "metadata": {
        "id": "dtI0KZXgL4KB"
      },
      "execution_count": 18,
      "outputs": []
    },
    {
      "cell_type": "code",
      "source": [
        "print(addResult)"
      ],
      "metadata": {
        "colab": {
          "base_uri": "https://localhost:8080/"
        },
        "id": "LpoOVFwbL6p_",
        "outputId": "0c95f997-1896-4fdc-cafe-ead2cb3c0f3b"
      },
      "execution_count": 19,
      "outputs": [
        {
          "output_type": "stream",
          "name": "stdout",
          "text": [
            "None\n"
          ]
        }
      ]
    },
    {
      "cell_type": "code",
      "source": [
        "def add2(num,num2):\n",
        "  result=num+num2\n",
        "  return result"
      ],
      "metadata": {
        "id": "CGUip7pvMFuw"
      },
      "execution_count": 20,
      "outputs": []
    },
    {
      "cell_type": "code",
      "source": [
        "addResult2=add2(1,2)\n",
        "print(addResult2)"
      ],
      "metadata": {
        "colab": {
          "base_uri": "https://localhost:8080/"
        },
        "id": "qt_ySTnjMRlm",
        "outputId": "bf716b8b-3a8f-43c3-8ad5-8dd20027d167"
      },
      "execution_count": 21,
      "outputs": [
        {
          "output_type": "stream",
          "name": "stdout",
          "text": [
            "3\n"
          ]
        }
      ]
    },
    {
      "cell_type": "code",
      "source": [
        "def 덧셈(덧셈수1,덧셈수2):\n",
        "  덧셈결과=덧셈수1+덧셈수2\n",
        "  return 덧셈결과\n",
        "  print('high')\n",
        "덧셈(1,2)"
      ],
      "metadata": {
        "colab": {
          "base_uri": "https://localhost:8080/"
        },
        "id": "LhZj_Ku9MXdq",
        "outputId": "a79567ac-1c11-4deb-fc6d-de887dc1eac6"
      },
      "execution_count": 24,
      "outputs": [
        {
          "output_type": "execute_result",
          "data": {
            "text/plain": [
              "3"
            ]
          },
          "metadata": {},
          "execution_count": 24
        }
      ]
    },
    {
      "cell_type": "code",
      "source": [
        "def x빼기y(y,x):\n",
        "  뺄셈결과=x-y\n",
        "  print(뺄셈결과)\n",
        "x빼기y(20,10)\n",
        "x빼기y(x=20, y=10)                                                                                                                              "
      ],
      "metadata": {
        "colab": {
          "base_uri": "https://localhost:8080/"
        },
        "id": "k_4r4pV4Nl1H",
        "outputId": "0c969c37-e8df-4399-cb91-9115c1333fd9"
      },
      "execution_count": 27,
      "outputs": [
        {
          "output_type": "stream",
          "name": "stdout",
          "text": [
            "-10\n",
            "10\n"
          ]
        }
      ]
    },
    {
      "cell_type": "code",
      "source": [
        "def 덧셈뺄셈(x,y):\n",
        "  덧셈결과=x+y\n",
        "  뺄셈결과=x-y\n",
        "  return 덧셈결과,뺄셈결과"
      ],
      "metadata": {
        "id": "C91IHV9VS4-J"
      },
      "execution_count": 36,
      "outputs": []
    },
    {
      "cell_type": "code",
      "source": [
        "함수실행결과= 덧셈뺄셈(20,10)\n",
        "print(함수실행결과)\n",
        "print(type(함수실행결과))\n"
      ],
      "metadata": {
        "colab": {
          "base_uri": "https://localhost:8080/"
        },
        "id": "Uza5gogrTI9c",
        "outputId": "59134438-d0df-4a5f-fda1-3e0364ba5416"
      },
      "execution_count": 37,
      "outputs": [
        {
          "output_type": "stream",
          "name": "stdout",
          "text": [
            "(30, 10)\n",
            "<class 'tuple'>\n"
          ]
        }
      ]
    },
    {
      "cell_type": "code",
      "source": [
        "print(함수실행결과[0],함수실행결과[1])"
      ],
      "metadata": {
        "colab": {
          "base_uri": "https://localhost:8080/"
        },
        "id": "AOmrdPZ2TYSp",
        "outputId": "ecc2427f-6a16-44a8-c9e4-3d08645c42fb"
      },
      "execution_count": 38,
      "outputs": [
        {
          "output_type": "stream",
          "name": "stdout",
          "text": [
            "30 10\n"
          ]
        }
      ]
    },
    {
      "cell_type": "code",
      "source": [
        "덧셈결과=함수실행결과[0]"
      ],
      "metadata": {
        "id": "NhftY23pT5K8"
      },
      "execution_count": 39,
      "outputs": []
    },
    {
      "cell_type": "code",
      "source": [
        "뺄셈결과=함수실행결과[1]"
      ],
      "metadata": {
        "id": "XMVCLprxUF1a"
      },
      "execution_count": 40,
      "outputs": []
    },
    {
      "cell_type": "code",
      "source": [
        "print(덧셈결과)\n",
        "print(뺄셈결과)"
      ],
      "metadata": {
        "colab": {
          "base_uri": "https://localhost:8080/"
        },
        "id": "Un916R5dUKyj",
        "outputId": "725d6346-b0d6-41bb-9c98-dac62cbb6e6c"
      },
      "execution_count": 41,
      "outputs": [
        {
          "output_type": "stream",
          "name": "stdout",
          "text": [
            "30\n",
            "10\n"
          ]
        }
      ]
    },
    {
      "cell_type": "code",
      "source": [
        "튜플1, 튜플2=(1,2)\n",
        "print(튜플1)"
      ],
      "metadata": {
        "colab": {
          "base_uri": "https://localhost:8080/"
        },
        "id": "UERnxWICUPLJ",
        "outputId": "7fc4d341-e392-48d2-ce1c-67982f8bebd5"
      },
      "execution_count": 42,
      "outputs": [
        {
          "output_type": "stream",
          "name": "stdout",
          "text": [
            "1\n"
          ]
        }
      ]
    },
    {
      "cell_type": "code",
      "source": [
        "덧셈결과,뺄셈결과=덧셈뺄셈(20,10)"
      ],
      "metadata": {
        "id": "3IroHoZGUhbU"
      },
      "execution_count": 43,
      "outputs": []
    },
    {
      "cell_type": "code",
      "source": [
        "print(덧셈결과)\n",
        "print(뺄셈결과)"
      ],
      "metadata": {
        "colab": {
          "base_uri": "https://localhost:8080/"
        },
        "id": "MLGy8dARUlqv",
        "outputId": "dc308403-633d-4447-aa28-9b8e59212145"
      },
      "execution_count": 44,
      "outputs": [
        {
          "output_type": "stream",
          "name": "stdout",
          "text": [
            "30\n",
            "10\n"
          ]
        }
      ]
    },
    {
      "cell_type": "code",
      "source": [
        "num=1\n",
        "print(type(num))"
      ],
      "metadata": {
        "colab": {
          "base_uri": "https://localhost:8080/"
        },
        "id": "a8fX4WjYUpFe",
        "outputId": "2ab8270f-c7ea-4655-ab6b-4e13b1b9f2c6"
      },
      "execution_count": 74,
      "outputs": [
        {
          "output_type": "stream",
          "name": "stdout",
          "text": [
            "<class 'int'>\n"
          ]
        }
      ]
    },
    {
      "cell_type": "code",
      "source": [
        "string='hello'\n",
        "print(type(string))"
      ],
      "metadata": {
        "colab": {
          "base_uri": "https://localhost:8080/"
        },
        "id": "9Z1KfBBIi0hd",
        "outputId": "0c59b638-9aaa-43e9-aeed-bee378d67a58"
      },
      "execution_count": 75,
      "outputs": [
        {
          "output_type": "stream",
          "name": "stdout",
          "text": [
            "<class 'str'>\n"
          ]
        }
      ]
    },
    {
      "cell_type": "code",
      "source": [
        "class  Animal:\n",
        "  pass"
      ],
      "metadata": {
        "id": "tHfKtVCXi-du"
      },
      "execution_count": 76,
      "outputs": []
    },
    {
      "cell_type": "code",
      "source": [
        "animal=Animal()"
      ],
      "metadata": {
        "id": "_YTM-0I_jghn"
      },
      "execution_count": 77,
      "outputs": []
    },
    {
      "cell_type": "code",
      "source": [
        "print(type(animal))"
      ],
      "metadata": {
        "colab": {
          "base_uri": "https://localhost:8080/"
        },
        "id": "vKeMYZ20jruE",
        "outputId": "7e9240e7-920b-4c99-cc20-a2d6781652da"
      },
      "execution_count": 78,
      "outputs": [
        {
          "output_type": "stream",
          "name": "stdout",
          "text": [
            "<class '__main__.Animal'>\n"
          ]
        }
      ]
    },
    {
      "cell_type": "code",
      "source": [
        "class Animal:\n",
        "  kor='동물'\n",
        "  def 숨쉬기():\n",
        "    print('숨을 쉽니다')\n",
        "  def 움직이기():\n",
        "    print('몸을 움직입니다')"
      ],
      "metadata": {
        "id": "8kbDAP7_jt3e"
      },
      "execution_count": 79,
      "outputs": []
    },
    {
      "cell_type": "code",
      "source": [
        "개=Animal()\n",
        "print(type(개))\n",
        "Animal.숨쉬기()\n",
        "Animal.움직이기()\n",
        "print('==============================')\n",
        "개.숨쉬기()\n",
        "개.움직이기()"
      ],
      "metadata": {
        "colab": {
          "base_uri": "https://localhost:8080/",
          "height": 299
        },
        "id": "CRxmnIAukOv8",
        "outputId": "375c6270-72f6-4da2-f90e-1286963d93be"
      },
      "execution_count": 80,
      "outputs": [
        {
          "output_type": "stream",
          "name": "stdout",
          "text": [
            "<class '__main__.Animal'>\n",
            "숨을 쉽니다\n",
            "몸을 움직입니다\n",
            "==============================\n"
          ]
        },
        {
          "output_type": "error",
          "ename": "TypeError",
          "evalue": "ignored",
          "traceback": [
            "\u001b[0;31m---------------------------------------------------------------------------\u001b[0m",
            "\u001b[0;31mTypeError\u001b[0m                                 Traceback (most recent call last)",
            "\u001b[0;32m<ipython-input-80-09c6ecd9bae1>\u001b[0m in \u001b[0;36m<module>\u001b[0;34m()\u001b[0m\n\u001b[1;32m      4\u001b[0m \u001b[0mAnimal\u001b[0m\u001b[0;34m.\u001b[0m\u001b[0m움직이기\u001b[0m\u001b[0;34m(\u001b[0m\u001b[0;34m)\u001b[0m\u001b[0;34m\u001b[0m\u001b[0;34m\u001b[0m\u001b[0m\n\u001b[1;32m      5\u001b[0m \u001b[0mprint\u001b[0m\u001b[0;34m(\u001b[0m\u001b[0;34m'=============================='\u001b[0m\u001b[0;34m)\u001b[0m\u001b[0;34m\u001b[0m\u001b[0;34m\u001b[0m\u001b[0m\n\u001b[0;32m----> 6\u001b[0;31m \u001b[0m개\u001b[0m\u001b[0;34m.\u001b[0m\u001b[0m숨쉬기\u001b[0m\u001b[0;34m(\u001b[0m\u001b[0;34m)\u001b[0m\u001b[0;34m\u001b[0m\u001b[0;34m\u001b[0m\u001b[0m\n\u001b[0m\u001b[1;32m      7\u001b[0m \u001b[0m개\u001b[0m\u001b[0;34m.\u001b[0m\u001b[0m움직이기\u001b[0m\u001b[0;34m(\u001b[0m\u001b[0;34m)\u001b[0m\u001b[0;34m\u001b[0m\u001b[0;34m\u001b[0m\u001b[0m\n",
            "\u001b[0;31mTypeError\u001b[0m: 숨쉬기() takes 0 positional arguments but 1 was given"
          ]
        }
      ]
    },
    {
      "cell_type": "code",
      "source": [
        "class Animal:\n",
        "  kor='동물'\n",
        "  def 숨쉬기(self):\n",
        "    print('숨을 쉽니다')\n",
        "  def 움직이기(self):\n",
        "    print('몸을 움직입니다')\n",
        "  def 말하기(self, 문장):\n",
        "    print(문장)\n",
        "animal=Animal()\n",
        "animal.숨쉬기()\n",
        "animal.움직이기()\n",
        "animal.말하기('안녕하세요')\n",
        "print(animal.kor)"
      ],
      "metadata": {
        "colab": {
          "base_uri": "https://localhost:8080/"
        },
        "id": "KRj89u8EkiFn",
        "outputId": "dbf5d6f5-8369-44db-95a5-f6b38e2a731a"
      },
      "execution_count": 84,
      "outputs": [
        {
          "output_type": "stream",
          "name": "stdout",
          "text": [
            "숨을 쉽니다\n",
            "몸을 움직입니다\n",
            "안녕하세요\n",
            "동물\n"
          ]
        }
      ]
    },
    {
      "cell_type": "code",
      "source": [
        "class Animal:\n",
        "  kor='동물'\n",
        "  def __init__(self):\n",
        "    print('태어났습니다')\n",
        "  def 숨쉬기(self):\n",
        "    print('숨을 쉽니다')\n",
        "  def 움직이기(self):\n",
        "    print('몸을 움직입니다')\n",
        "  def 말하기(self, 문장):\n",
        "    print(문장)\n",
        "  def __del__(self):\n",
        "    print('죽었습니다')\n",
        "animal=Animal()\n",
        "print('===========================')\n",
        "del animal"
      ],
      "metadata": {
        "colab": {
          "base_uri": "https://localhost:8080/"
        },
        "id": "psjx2b34lvsr",
        "outputId": "2f6e21fa-a3c6-492e-c5f2-52219160fdcf"
      },
      "execution_count": 88,
      "outputs": [
        {
          "output_type": "stream",
          "name": "stdout",
          "text": [
            "태어났습니다\n",
            "===========================\n",
            "죽었습니다\n"
          ]
        }
      ]
    },
    {
      "cell_type": "code",
      "source": [
        "-_-_-_-_-_-_-_-_-_-_-_-_-_-_-_-_-_-_-_-_-_"
      ],
      "metadata": {
        "id": "bEaQSRMfmvi3"
      },
      "execution_count": 89,
      "outputs": []
    },
    {
      "cell_type": "code",
      "source": [
        "class Animal:\n",
        "\n",
        "  def __init__(self,키,생일):\n",
        "    self.키=키\n",
        "    self.생일=생일\n",
        "    print('태어났습니다')\n",
        "  def 키얻기(self):\n",
        "    print(f\"키는 {self.키}cm 입니다\")\n",
        "  def 생일얻기(self):\n",
        "    print(f\"생일은 {self.생일} 입니다\")\n",
        "  def 숨쉬기(self):\n",
        "    print('숨을 쉽니다')\n",
        "  def 움직이기(self):\n",
        "    print('몸을 움직입니다')\n",
        "  def 말하기(self, 문장):\n",
        "    print(문장)\n",
        "  def __del__(self):\n",
        "    print('죽었습니다')\n"
      ],
      "metadata": {
        "id": "9GN_u6tTnSgX"
      },
      "execution_count": 101,
      "outputs": []
    },
    {
      "cell_type": "code",
      "source": [
        "animal=Animal(키=30, 생일=20220219)\n",
        "print(animal.키)\n",
        "animal.키얻기()"
      ],
      "metadata": {
        "colab": {
          "base_uri": "https://localhost:8080/"
        },
        "id": "YF9SLb_kpAE0",
        "outputId": "42913b9d-2edf-4006-b31a-62d5181cd725"
      },
      "execution_count": 102,
      "outputs": [
        {
          "output_type": "stream",
          "name": "stdout",
          "text": [
            "태어났습니다\n",
            "30\n",
            "키는 30cm 입니다\n",
            "죽었습니다\n"
          ]
        }
      ]
    },
    {
      "cell_type": "code",
      "source": [
        "animal.키=2"
      ],
      "metadata": {
        "id": "_ksarpcXpeVX"
      },
      "execution_count": 103,
      "outputs": []
    },
    {
      "cell_type": "code",
      "source": [
        "animal.키얻기()"
      ],
      "metadata": {
        "colab": {
          "base_uri": "https://localhost:8080/"
        },
        "id": "fsw1PQKKpiz3",
        "outputId": "61e0eedc-5a2b-4965-9c1c-047903b5478d"
      },
      "execution_count": 104,
      "outputs": [
        {
          "output_type": "stream",
          "name": "stdout",
          "text": [
            "키는 2cm 입니다\n"
          ]
        }
      ]
    },
    {
      "cell_type": "code",
      "source": [
        "dir(animal)"
      ],
      "metadata": {
        "colab": {
          "base_uri": "https://localhost:8080/"
        },
        "id": "S4H4iCRSplnL",
        "outputId": "f5276f9e-8db3-4559-ef33-c5feb055ce71"
      },
      "execution_count": 105,
      "outputs": [
        {
          "output_type": "execute_result",
          "data": {
            "text/plain": [
              "['__class__',\n",
              " '__del__',\n",
              " '__delattr__',\n",
              " '__dict__',\n",
              " '__dir__',\n",
              " '__doc__',\n",
              " '__eq__',\n",
              " '__format__',\n",
              " '__ge__',\n",
              " '__getattribute__',\n",
              " '__gt__',\n",
              " '__hash__',\n",
              " '__init__',\n",
              " '__init_subclass__',\n",
              " '__le__',\n",
              " '__lt__',\n",
              " '__module__',\n",
              " '__ne__',\n",
              " '__new__',\n",
              " '__reduce__',\n",
              " '__reduce_ex__',\n",
              " '__repr__',\n",
              " '__setattr__',\n",
              " '__sizeof__',\n",
              " '__str__',\n",
              " '__subclasshook__',\n",
              " '__weakref__',\n",
              " '말하기',\n",
              " '생일',\n",
              " '생일얻기',\n",
              " '숨쉬기',\n",
              " '움직이기',\n",
              " '키',\n",
              " '키얻기']"
            ]
          },
          "metadata": {},
          "execution_count": 105
        }
      ]
    },
    {
      "cell_type": "code",
      "source": [
        "print(type(animal.말하기))"
      ],
      "metadata": {
        "colab": {
          "base_uri": "https://localhost:8080/"
        },
        "id": "bQ3CKqeNqVE5",
        "outputId": "f432c9cc-6136-4dbd-d7bf-260fe53f7015"
      },
      "execution_count": 106,
      "outputs": [
        {
          "output_type": "stream",
          "name": "stdout",
          "text": [
            "<class 'method'>\n"
          ]
        }
      ]
    },
    {
      "cell_type": "code",
      "source": [
        "class 개(Animal):\n",
        "  def 짖기(self):\n",
        "    print('멍')"
      ],
      "metadata": {
        "id": "ycu-rmEjqq1P"
      },
      "execution_count": 107,
      "outputs": []
    },
    {
      "cell_type": "code",
      "source": [
        "요크셔=개(키=30,생일='오늘')\n",
        "요크셔.짖기()"
      ],
      "metadata": {
        "colab": {
          "base_uri": "https://localhost:8080/"
        },
        "id": "DAWtHUE4q_f3",
        "outputId": "9f114311-5b36-45f4-d14f-a5d090f22f72"
      },
      "execution_count": 108,
      "outputs": [
        {
          "output_type": "stream",
          "name": "stdout",
          "text": [
            "태어났습니다\n",
            "멍\n"
          ]
        }
      ]
    },
    {
      "cell_type": "code",
      "source": [
        "요크셔.키얻기()"
      ],
      "metadata": {
        "colab": {
          "base_uri": "https://localhost:8080/"
        },
        "id": "oAcgVDiyrJ1a",
        "outputId": "fffe6267-419b-403b-85d7-f5d18360c694"
      },
      "execution_count": 109,
      "outputs": [
        {
          "output_type": "stream",
          "name": "stdout",
          "text": [
            "키는 30cm 입니다\n"
          ]
        }
      ]
    },
    {
      "cell_type": "code",
      "source": [
        "del 요크셔"
      ],
      "metadata": {
        "colab": {
          "base_uri": "https://localhost:8080/"
        },
        "id": "td9MgOFurWAA",
        "outputId": "dcd5a264-de0d-4d2d-9c7c-860b0d61303e"
      },
      "execution_count": 110,
      "outputs": [
        {
          "output_type": "stream",
          "name": "stdout",
          "text": [
            "죽었습니다\n"
          ]
        }
      ]
    },
    {
      "cell_type": "code",
      "source": [
        ""
      ],
      "metadata": {
        "id": "gCkJl9QWrst9"
      },
      "execution_count": null,
      "outputs": []
    },
    {
      "cell_type": "code",
      "source": [
        ""
      ],
      "metadata": {
        "id": "Zmz0hQeFwKJG"
      },
      "execution_count": null,
      "outputs": []
    }
  ]
}