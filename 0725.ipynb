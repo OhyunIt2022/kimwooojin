{
  "nbformat": 4,
  "nbformat_minor": 0,
  "metadata": {
    "colab": {
      "name": "0725.ipynb",
      "provenance": []
    },
    "kernelspec": {
      "name": "python3",
      "display_name": "Python 3"
    },
    "language_info": {
      "name": "python"
    }
  },
  "cells": [
    {
      "cell_type": "code",
      "execution_count": null,
      "metadata": {
        "id": "fdI4zd9ty3vZ"
      },
      "outputs": [],
      "source": [
        "#추가\n",
        "배열=[1,2,3,4,5]"
      ]
    },
    {
      "cell_type": "code",
      "source": [
        "print(배열)"
      ],
      "metadata": {
        "colab": {
          "base_uri": "https://localhost:8080/"
        },
        "id": "ExHia1v-0QMw",
        "outputId": "738fd6bf-cef7-4bf3-ae09-fbe20e702306"
      },
      "execution_count": null,
      "outputs": [
        {
          "output_type": "stream",
          "name": "stdout",
          "text": [
            "[1, 2, 3, 4, 5]\n"
          ]
        }
      ]
    },
    {
      "cell_type": "code",
      "source": [
        "배열.append(6)"
      ],
      "metadata": {
        "id": "T932qnvr0bon"
      },
      "execution_count": null,
      "outputs": []
    },
    {
      "cell_type": "code",
      "source": [
        "print(배열)"
      ],
      "metadata": {
        "colab": {
          "base_uri": "https://localhost:8080/"
        },
        "id": "qm5ueByT0gAh",
        "outputId": "b327109f-0973-4daa-ca16-07b2e8904a78"
      },
      "execution_count": null,
      "outputs": [
        {
          "output_type": "stream",
          "name": "stdout",
          "text": [
            "[1, 2, 3, 4, 5, 6, 8]\n"
          ]
        }
      ]
    },
    {
      "cell_type": "code",
      "source": [
        "배열.append(7,8)"
      ],
      "metadata": {
        "colab": {
          "base_uri": "https://localhost:8080/",
          "height": 172
        },
        "id": "G8c-Xq790h8u",
        "outputId": "fc05dfb8-9e52-4499-d171-73e377292025"
      },
      "execution_count": null,
      "outputs": [
        {
          "output_type": "error",
          "ename": "TypeError",
          "evalue": "ignored",
          "traceback": [
            "\u001b[0;31m---------------------------------------------------------------------------\u001b[0m",
            "\u001b[0;31mTypeError\u001b[0m                                 Traceback (most recent call last)",
            "\u001b[0;32m<ipython-input-8-48cd7b580f91>\u001b[0m in \u001b[0;36m<module>\u001b[0;34m()\u001b[0m\n\u001b[0;32m----> 1\u001b[0;31m \u001b[0m배열\u001b[0m\u001b[0;34m.\u001b[0m\u001b[0mappend\u001b[0m\u001b[0;34m(\u001b[0m\u001b[0;36m7\u001b[0m\u001b[0;34m,\u001b[0m\u001b[0;36m8\u001b[0m\u001b[0;34m)\u001b[0m\u001b[0;34m\u001b[0m\u001b[0;34m\u001b[0m\u001b[0m\n\u001b[0m",
            "\u001b[0;31mTypeError\u001b[0m: append() takes exactly one argument (2 given)"
          ]
        }
      ]
    },
    {
      "cell_type": "code",
      "source": [
        "배열.append([1,2])"
      ],
      "metadata": {
        "id": "RYgi2zPo0s3B"
      },
      "execution_count": null,
      "outputs": []
    },
    {
      "cell_type": "code",
      "source": [
        "print(배열)"
      ],
      "metadata": {
        "colab": {
          "base_uri": "https://localhost:8080/"
        },
        "id": "QN6z-3dt0yZB",
        "outputId": "cf5bc0c3-3796-4e8a-a08e-a8b6511297c2"
      },
      "execution_count": null,
      "outputs": [
        {
          "output_type": "stream",
          "name": "stdout",
          "text": [
            "[1, 2, 3, 4, 5, 6, 8, [1, 2]]\n"
          ]
        }
      ]
    },
    {
      "cell_type": "code",
      "source": [
        "dir(배열)"
      ],
      "metadata": {
        "colab": {
          "base_uri": "https://localhost:8080/"
        },
        "id": "UCVgbclC00eB",
        "outputId": "3304f213-998b-4189-f7f5-941497008848"
      },
      "execution_count": null,
      "outputs": [
        {
          "output_type": "execute_result",
          "data": {
            "text/plain": [
              "['__add__',\n",
              " '__class__',\n",
              " '__contains__',\n",
              " '__delattr__',\n",
              " '__delitem__',\n",
              " '__dir__',\n",
              " '__doc__',\n",
              " '__eq__',\n",
              " '__format__',\n",
              " '__ge__',\n",
              " '__getattribute__',\n",
              " '__getitem__',\n",
              " '__gt__',\n",
              " '__hash__',\n",
              " '__iadd__',\n",
              " '__imul__',\n",
              " '__init__',\n",
              " '__init_subclass__',\n",
              " '__iter__',\n",
              " '__le__',\n",
              " '__len__',\n",
              " '__lt__',\n",
              " '__mul__',\n",
              " '__ne__',\n",
              " '__new__',\n",
              " '__reduce__',\n",
              " '__reduce_ex__',\n",
              " '__repr__',\n",
              " '__reversed__',\n",
              " '__rmul__',\n",
              " '__setattr__',\n",
              " '__setitem__',\n",
              " '__sizeof__',\n",
              " '__str__',\n",
              " '__subclasshook__',\n",
              " 'append',\n",
              " 'clear',\n",
              " 'copy',\n",
              " 'count',\n",
              " 'extend',\n",
              " 'index',\n",
              " 'insert',\n",
              " 'pop',\n",
              " 'remove',\n",
              " 'reverse',\n",
              " 'sort']"
            ]
          },
          "metadata": {},
          "execution_count": 11
        }
      ]
    },
    {
      "cell_type": "markdown",
      "source": [
        ""
      ],
      "metadata": {
        "id": "1_RiPLCG1tNE"
      }
    },
    {
      "cell_type": "code",
      "source": [
        "배열2=[3,10,19,100,1,17]"
      ],
      "metadata": {
        "id": "c6huT2jV08-I"
      },
      "execution_count": null,
      "outputs": []
    },
    {
      "cell_type": "code",
      "source": [
        "print(배열2)"
      ],
      "metadata": {
        "colab": {
          "base_uri": "https://localhost:8080/"
        },
        "id": "b4ySFmak1zcO",
        "outputId": "74b957fd-0a65-4f1f-d2d6-f04096b2c103"
      },
      "execution_count": null,
      "outputs": [
        {
          "output_type": "stream",
          "name": "stdout",
          "text": [
            "[1, 3, 10, 17, 19, 100]\n"
          ]
        }
      ]
    },
    {
      "cell_type": "code",
      "source": [
        "배열2.sort()"
      ],
      "metadata": {
        "id": "xxnIk62k11dl"
      },
      "execution_count": null,
      "outputs": []
    },
    {
      "cell_type": "code",
      "source": [
        "print(배열2)"
      ],
      "metadata": {
        "colab": {
          "base_uri": "https://localhost:8080/"
        },
        "id": "4j3o4i6R14kL",
        "outputId": "3db24c20-04ce-43fe-af1a-7d108026c230"
      },
      "execution_count": null,
      "outputs": [
        {
          "output_type": "stream",
          "name": "stdout",
          "text": [
            "[1, 3, 10, 17, 19, 100]\n"
          ]
        }
      ]
    },
    {
      "cell_type": "code",
      "source": [
        "문자열배열=['z','c','d','가','다','나']\n",
        "print(문자열배열)"
      ],
      "metadata": {
        "colab": {
          "base_uri": "https://localhost:8080/"
        },
        "id": "nRkczagU17Ml",
        "outputId": "0c81110d-15ae-4fbe-ccd1-d7ec635f23c4"
      },
      "execution_count": null,
      "outputs": [
        {
          "output_type": "stream",
          "name": "stdout",
          "text": [
            "['z', 'c', 'd', '가', '다', '나']\n"
          ]
        }
      ]
    },
    {
      "cell_type": "code",
      "source": [
        "섞인거=[1,10,3,'b','c','d']"
      ],
      "metadata": {
        "id": "2oF6hT_82W6Z"
      },
      "execution_count": null,
      "outputs": []
    },
    {
      "cell_type": "code",
      "source": [
        "섞인거.sort()"
      ],
      "metadata": {
        "colab": {
          "base_uri": "https://localhost:8080/",
          "height": 172
        },
        "id": "K9DLrQcQ2esd",
        "outputId": "daeda001-5dcc-4419-a759-2ff169b80417"
      },
      "execution_count": null,
      "outputs": [
        {
          "output_type": "error",
          "ename": "TypeError",
          "evalue": "ignored",
          "traceback": [
            "\u001b[0;31m---------------------------------------------------------------------------\u001b[0m",
            "\u001b[0;31mTypeError\u001b[0m                                 Traceback (most recent call last)",
            "\u001b[0;32m<ipython-input-20-a1d5e6003cd1>\u001b[0m in \u001b[0;36m<module>\u001b[0;34m()\u001b[0m\n\u001b[0;32m----> 1\u001b[0;31m \u001b[0m섞인거\u001b[0m\u001b[0;34m.\u001b[0m\u001b[0msort\u001b[0m\u001b[0;34m(\u001b[0m\u001b[0;34m)\u001b[0m\u001b[0;34m\u001b[0m\u001b[0;34m\u001b[0m\u001b[0m\n\u001b[0m",
            "\u001b[0;31mTypeError\u001b[0m: '<' not supported between instances of 'str' and 'int'"
          ]
        }
      ]
    },
    {
      "cell_type": "code",
      "source": [
        "배열3=[5,3,10]"
      ],
      "metadata": {
        "id": "MHkV_2tR2nem"
      },
      "execution_count": null,
      "outputs": []
    },
    {
      "cell_type": "code",
      "source": [
        "print(배열3)"
      ],
      "metadata": {
        "colab": {
          "base_uri": "https://localhost:8080/"
        },
        "id": "JoveG_ZZ29WT",
        "outputId": "3b0de6f1-518a-4d7d-c2c0-b16a8b81414a"
      },
      "execution_count": null,
      "outputs": [
        {
          "output_type": "stream",
          "name": "stdout",
          "text": [
            "[5, 3, 10]\n"
          ]
        }
      ]
    },
    {
      "cell_type": "code",
      "source": [
        "배열3.reverse()\n",
        "print(배열3)"
      ],
      "metadata": {
        "colab": {
          "base_uri": "https://localhost:8080/"
        },
        "id": "zwL2lQHk2_hz",
        "outputId": "7ff8ce61-fee3-4c88-b29e-dea5432a2a07"
      },
      "execution_count": null,
      "outputs": [
        {
          "output_type": "stream",
          "name": "stdout",
          "text": [
            "[10, 3, 5]\n"
          ]
        }
      ]
    },
    {
      "cell_type": "code",
      "source": [
        "섞인거2=[1,10,3,'b','c','d']\n",
        "print(섞인거2)"
      ],
      "metadata": {
        "colab": {
          "base_uri": "https://localhost:8080/"
        },
        "id": "zFb-vMez3E71",
        "outputId": "11010183-fb3c-41e7-88bf-cc93f2941384"
      },
      "execution_count": null,
      "outputs": [
        {
          "output_type": "stream",
          "name": "stdout",
          "text": [
            "[1, 10, 3, 'b', 'c', 'd']\n"
          ]
        }
      ]
    },
    {
      "cell_type": "code",
      "source": [
        "섞인거2.reverse()"
      ],
      "metadata": {
        "id": "9cXrVDvL3SQt"
      },
      "execution_count": null,
      "outputs": []
    },
    {
      "cell_type": "code",
      "source": [
        "print(섞인거2)"
      ],
      "metadata": {
        "colab": {
          "base_uri": "https://localhost:8080/"
        },
        "id": "Qh56N-wr3U3P",
        "outputId": "2ee67d94-8482-4830-aa95-f68f51639329"
      },
      "execution_count": null,
      "outputs": [
        {
          "output_type": "stream",
          "name": "stdout",
          "text": [
            "['d', 'c', 'b', 3, 10, 1]\n"
          ]
        }
      ]
    },
    {
      "cell_type": "code",
      "source": [
        "배열4=[1,2,[1,2,3]]"
      ],
      "metadata": {
        "id": "oDTgDjSp3Wwv"
      },
      "execution_count": null,
      "outputs": []
    },
    {
      "cell_type": "code",
      "source": [
        "print(배열4)"
      ],
      "metadata": {
        "colab": {
          "base_uri": "https://localhost:8080/"
        },
        "id": "9G5-8UsP3e1v",
        "outputId": "54364ca4-9595-4905-f924-c327634477d9"
      },
      "execution_count": null,
      "outputs": [
        {
          "output_type": "stream",
          "name": "stdout",
          "text": [
            "[1, 2, [1, 2, 3]]\n"
          ]
        }
      ]
    },
    {
      "cell_type": "code",
      "source": [
        "배열4.reverse()\n",
        "print(배열4)"
      ],
      "metadata": {
        "colab": {
          "base_uri": "https://localhost:8080/"
        },
        "id": "x01a-bH83ib5",
        "outputId": "fbf12b3a-01c5-4050-f645-0316a1337b6a"
      },
      "execution_count": null,
      "outputs": [
        {
          "output_type": "stream",
          "name": "stdout",
          "text": [
            "[[1, 2, 3], 2, 1]\n"
          ]
        }
      ]
    },
    {
      "cell_type": "code",
      "source": [
        "배열4[0].reverse()\n",
        "print(배열4)"
      ],
      "metadata": {
        "colab": {
          "base_uri": "https://localhost:8080/"
        },
        "id": "A5XiEce135uB",
        "outputId": "7ab4b226-a753-40ba-a9aa-778bff23c0ac"
      },
      "execution_count": null,
      "outputs": [
        {
          "output_type": "stream",
          "name": "stdout",
          "text": [
            "[[3, 2, 1], 2, 1]\n"
          ]
        }
      ]
    },
    {
      "cell_type": "code",
      "source": [
        "숫자=1"
      ],
      "metadata": {
        "id": "Kg-1yU5s50JE"
      },
      "execution_count": null,
      "outputs": []
    },
    {
      "cell_type": "code",
      "source": [
        "숫자=숫자+1\n",
        "print(숫자)"
      ],
      "metadata": {
        "colab": {
          "base_uri": "https://localhost:8080/"
        },
        "id": "xxDEciY37i1v",
        "outputId": "6c9e20e2-7214-471e-baca-c8000a41ff21"
      },
      "execution_count": null,
      "outputs": [
        {
          "output_type": "stream",
          "name": "stdout",
          "text": [
            "4\n"
          ]
        }
      ]
    },
    {
      "cell_type": "code",
      "source": [
        "음식=['라면','떡볶이','커피','짜장면','파스타','불족','피자','치킨']\n",
        "불족인덱스=음식.index('불족')\n",
        "print(불족인덱스)"
      ],
      "metadata": {
        "colab": {
          "base_uri": "https://localhost:8080/"
        },
        "id": "9tyby7i77n7l",
        "outputId": "9a6d7639-1f41-4fe4-b9be-1a589b0f8a6b"
      },
      "execution_count": null,
      "outputs": [
        {
          "output_type": "stream",
          "name": "stdout",
          "text": [
            "5\n"
          ]
        }
      ]
    },
    {
      "cell_type": "code",
      "source": [
        "음식.index('소고기')"
      ],
      "metadata": {
        "colab": {
          "base_uri": "https://localhost:8080/",
          "height": 172
        },
        "id": "Yc7du6OB_pWO",
        "outputId": "6f38158a-9bf5-47d1-e222-b673b114d58d"
      },
      "execution_count": null,
      "outputs": [
        {
          "output_type": "error",
          "ename": "ValueError",
          "evalue": "ignored",
          "traceback": [
            "\u001b[0;31m---------------------------------------------------------------------------\u001b[0m",
            "\u001b[0;31mValueError\u001b[0m                                Traceback (most recent call last)",
            "\u001b[0;32m<ipython-input-61-01e0f5b8be94>\u001b[0m in \u001b[0;36m<module>\u001b[0;34m()\u001b[0m\n\u001b[0;32m----> 1\u001b[0;31m \u001b[0m음식\u001b[0m\u001b[0;34m.\u001b[0m\u001b[0mindex\u001b[0m\u001b[0;34m(\u001b[0m\u001b[0;34m'소고기'\u001b[0m\u001b[0;34m)\u001b[0m\u001b[0;34m\u001b[0m\u001b[0;34m\u001b[0m\u001b[0m\n\u001b[0m",
            "\u001b[0;31mValueError\u001b[0m: '소고기' is not in list"
          ]
        }
      ]
    },
    {
      "cell_type": "code",
      "source": [
        "떡볶이인덱스=음식.index('떡볶이')\n",
        "피자이전=음식.index(\"피자\")\n",
        "음식2=음식[떡볶이인덱스:피자이전]\n",
        "print(음식2)"
      ],
      "metadata": {
        "colab": {
          "base_uri": "https://localhost:8080/"
        },
        "id": "yq-FQPvq_0og",
        "outputId": "226c04e5-8359-4f71-ab49-7869166084d6"
      },
      "execution_count": null,
      "outputs": [
        {
          "output_type": "stream",
          "name": "stdout",
          "text": [
            "['떡볶이', '커피', '짜장면', '파스타', '불족']\n"
          ]
        }
      ]
    },
    {
      "cell_type": "code",
      "source": [
        "음식.insert(불족인덱스,'소고기')"
      ],
      "metadata": {
        "id": "eQJIMVVuAmRR"
      },
      "execution_count": null,
      "outputs": []
    },
    {
      "cell_type": "code",
      "source": [
        "print(음식)"
      ],
      "metadata": {
        "colab": {
          "base_uri": "https://localhost:8080/"
        },
        "id": "C5A-6rwUBKpX",
        "outputId": "ccff39e5-195b-43b2-d919-deb850b3816a"
      },
      "execution_count": null,
      "outputs": [
        {
          "output_type": "stream",
          "name": "stdout",
          "text": [
            "['라면', '떡볶이', '커피', '짜장면', '파스타', '소고기', '불족', '피자', '치킨']\n"
          ]
        }
      ]
    },
    {
      "cell_type": "code",
      "source": [
        "음식.pop()"
      ],
      "metadata": {
        "colab": {
          "base_uri": "https://localhost:8080/",
          "height": 35
        },
        "id": "-nmADaGpBNBG",
        "outputId": "a7f09f6b-275a-4f56-cbf7-b45bc833c0a5"
      },
      "execution_count": null,
      "outputs": [
        {
          "output_type": "execute_result",
          "data": {
            "text/plain": [
              "'치킨'"
            ],
            "application/vnd.google.colaboratory.intrinsic+json": {
              "type": "string"
            }
          },
          "metadata": {},
          "execution_count": 65
        }
      ]
    },
    {
      "cell_type": "code",
      "source": [
        "print(음식)"
      ],
      "metadata": {
        "colab": {
          "base_uri": "https://localhost:8080/"
        },
        "id": "5iN95BHBBqUu",
        "outputId": "2c9f8951-753a-4ed1-f6a1-731a5185a05d"
      },
      "execution_count": null,
      "outputs": [
        {
          "output_type": "stream",
          "name": "stdout",
          "text": [
            "['라면', '떡볶이', '커피', '짜장면', '파스타', '소고기', '불족', '피자']\n"
          ]
        }
      ]
    },
    {
      "cell_type": "code",
      "source": [
        "음식.pop(2)"
      ],
      "metadata": {
        "colab": {
          "base_uri": "https://localhost:8080/",
          "height": 35
        },
        "id": "SSgGFC1BBunM",
        "outputId": "72e16523-1bc5-44f0-fb71-b3dae0bc4320"
      },
      "execution_count": null,
      "outputs": [
        {
          "output_type": "execute_result",
          "data": {
            "text/plain": [
              "'짜장면'"
            ],
            "application/vnd.google.colaboratory.intrinsic+json": {
              "type": "string"
            }
          },
          "metadata": {},
          "execution_count": 69
        }
      ]
    },
    {
      "cell_type": "code",
      "source": [
        "print(음식)"
      ],
      "metadata": {
        "colab": {
          "base_uri": "https://localhost:8080/"
        },
        "id": "BDRzTdzWBypH",
        "outputId": "d15460f6-b237-4107-c974-d37b3822f77d"
      },
      "execution_count": null,
      "outputs": [
        {
          "output_type": "stream",
          "name": "stdout",
          "text": [
            "['라면', '떡볶이', '파스타', '소고기', '불족', '피자']\n"
          ]
        }
      ]
    },
    {
      "cell_type": "code",
      "source": [
        "음식.remove('불족')"
      ],
      "metadata": {
        "id": "IEjHySOBB208"
      },
      "execution_count": null,
      "outputs": []
    },
    {
      "cell_type": "code",
      "source": [
        "print(음식)"
      ],
      "metadata": {
        "colab": {
          "base_uri": "https://localhost:8080/"
        },
        "id": "GYXkxsPHCO8I",
        "outputId": "269c2713-c312-43df-fd7c-ca7ad0eec9b4"
      },
      "execution_count": null,
      "outputs": [
        {
          "output_type": "stream",
          "name": "stdout",
          "text": [
            "['라면', '떡볶이', '파스타', '소고기', '피자']\n"
          ]
        }
      ]
    },
    {
      "cell_type": "code",
      "source": [
        "꺼낸음식=음식.pop()\n",
        "print(꺼낸음식)"
      ],
      "metadata": {
        "colab": {
          "base_uri": "https://localhost:8080/"
        },
        "id": "7j_MWD5FCSbc",
        "outputId": "577ecc93-d6dd-4bcc-f746-756975d926f4"
      },
      "execution_count": null,
      "outputs": [
        {
          "output_type": "stream",
          "name": "stdout",
          "text": [
            "피자\n"
          ]
        }
      ]
    },
    {
      "cell_type": "code",
      "source": [
        "삭제=음식.remove('라면')\n",
        "print(삭제)"
      ],
      "metadata": {
        "colab": {
          "base_uri": "https://localhost:8080/"
        },
        "id": "BuO1pj9fCdMV",
        "outputId": "54aefd72-da5c-4c3c-fea2-22d8010f3be8"
      },
      "execution_count": null,
      "outputs": [
        {
          "output_type": "stream",
          "name": "stdout",
          "text": [
            "None\n"
          ]
        }
      ]
    },
    {
      "cell_type": "code",
      "source": [
        "배열5=[1,1,1,2,3,4,4,'하이','하이',1,2]\n",
        "하이개수=배열5.count('하이')\n",
        "print(하이개수)"
      ],
      "metadata": {
        "colab": {
          "base_uri": "https://localhost:8080/"
        },
        "id": "FJ4yKJ5vCkxH",
        "outputId": "59cbb129-de8b-4171-e78b-2c30739f9e83"
      },
      "execution_count": null,
      "outputs": [
        {
          "output_type": "stream",
          "name": "stdout",
          "text": [
            "2\n"
          ]
        }
      ]
    },
    {
      "cell_type": "code",
      "source": [
        "일의개수=배열5.count(1)\n",
        "print(일의개수)"
      ],
      "metadata": {
        "colab": {
          "base_uri": "https://localhost:8080/"
        },
        "id": "BY-h0V8MDiXm",
        "outputId": "365e1d78-48a5-4b36-eb5c-7e86e79e929a"
      },
      "execution_count": null,
      "outputs": [
        {
          "output_type": "stream",
          "name": "stdout",
          "text": [
            "4\n"
          ]
        }
      ]
    },
    {
      "cell_type": "code",
      "source": [
        "없는거=배열5.count('집행검')\n",
        "print(없는거)"
      ],
      "metadata": {
        "colab": {
          "base_uri": "https://localhost:8080/"
        },
        "id": "OxMNFazzDwZ9",
        "outputId": "bbcad95d-107d-43a8-8aea-5f5d3232f7ae"
      },
      "execution_count": null,
      "outputs": [
        {
          "output_type": "stream",
          "name": "stdout",
          "text": [
            "0\n"
          ]
        }
      ]
    },
    {
      "cell_type": "code",
      "source": [
        "배열6=[1,2,3]\n",
        "배열7=[4,5,6]\n",
        "배열6.extend(배열7)\n",
        "print(배열6,\"배열6\")\n",
        "print(배열7,\"배열7\")"
      ],
      "metadata": {
        "colab": {
          "base_uri": "https://localhost:8080/"
        },
        "id": "gOQdiL-4D5y3",
        "outputId": "50f03b73-22b3-4b45-daf1-bd409f704cb7"
      },
      "execution_count": null,
      "outputs": [
        {
          "output_type": "stream",
          "name": "stdout",
          "text": [
            "[1, 2, 3, 4, 5, 6] 배열6\n",
            "[4, 5, 6] 배열7\n"
          ]
        }
      ]
    },
    {
      "cell_type": "code",
      "source": [
        "배열8=[1,2,3]\n",
        "배열9=배열8.copy()\n",
        "print(배열8,'배열8')\n",
        "print(배열9,'배열9')\n",
        "배열9[0]=10\n",
        "print(배열8,'배열8')\n",
        "print(배열9,'배열9')"
      ],
      "metadata": {
        "colab": {
          "base_uri": "https://localhost:8080/"
        },
        "id": "XCJGm4lrEPK8",
        "outputId": "b70643e2-e06b-4766-c782-69f2a1930612"
      },
      "execution_count": null,
      "outputs": [
        {
          "output_type": "stream",
          "name": "stdout",
          "text": [
            "[1, 2, 3] 배열8\n",
            "[1, 2, 3] 배열9\n",
            "[1, 2, 3] 배열8\n",
            "[10, 2, 3] 배열9\n"
          ]
        }
      ]
    },
    {
      "cell_type": "code",
      "source": [
        "배열10=[1,2,3,4,5]\n",
        "print(배열10,'클리어 이전')\n",
        "배열10.clear()\n",
        "print(배열10)"
      ],
      "metadata": {
        "colab": {
          "base_uri": "https://localhost:8080/"
        },
        "id": "S5Zqz0GjFjcj",
        "outputId": "b5a6c02e-017c-42c6-ef85-9dd7542ac508"
      },
      "execution_count": null,
      "outputs": [
        {
          "output_type": "stream",
          "name": "stdout",
          "text": [
            "[1, 2, 3, 4, 5] 클리어 이전\n",
            "[]\n"
          ]
        }
      ]
    },
    {
      "cell_type": "code",
      "source": [
        "튜플=(1,2,3)\n",
        "print(튜플)"
      ],
      "metadata": {
        "colab": {
          "base_uri": "https://localhost:8080/"
        },
        "id": "8zBsGjByHNbl",
        "outputId": "950d8461-c743-45e1-f0ee-40547ba4ed94"
      },
      "execution_count": null,
      "outputs": [
        {
          "output_type": "stream",
          "name": "stdout",
          "text": [
            "(1, 2, 3)\n"
          ]
        }
      ]
    },
    {
      "cell_type": "code",
      "source": [
        "print(튜플[0])"
      ],
      "metadata": {
        "colab": {
          "base_uri": "https://localhost:8080/"
        },
        "id": "ivWVf6jKHwHM",
        "outputId": "9f365cda-6a20-4716-d3bf-daa9592d530d"
      },
      "execution_count": null,
      "outputs": [
        {
          "output_type": "stream",
          "name": "stdout",
          "text": [
            "1\n"
          ]
        }
      ]
    },
    {
      "cell_type": "code",
      "source": [
        "샘플배열=[1,2,3]\n",
        "print(샘플배열)\n",
        "del 샘플배열[0]\n",
        "print(샘플배열)"
      ],
      "metadata": {
        "colab": {
          "base_uri": "https://localhost:8080/"
        },
        "id": "U1yMOcCIH0iw",
        "outputId": "32e2aecf-c66c-41c4-95e9-0ddf29a74169"
      },
      "execution_count": null,
      "outputs": [
        {
          "output_type": "stream",
          "name": "stdout",
          "text": [
            "[1, 2, 3]\n",
            "[2, 3]\n"
          ]
        }
      ]
    },
    {
      "cell_type": "code",
      "source": [
        "변수=1\n",
        "print(변수)"
      ],
      "metadata": {
        "colab": {
          "base_uri": "https://localhost:8080/"
        },
        "id": "yals1WdeH_-y",
        "outputId": "be16eed9-21c3-4053-8d5a-24146f0db223"
      },
      "execution_count": null,
      "outputs": [
        {
          "output_type": "stream",
          "name": "stdout",
          "text": [
            "1\n"
          ]
        }
      ]
    },
    {
      "cell_type": "code",
      "source": [
        "del 변수\n",
        "print(변수)"
      ],
      "metadata": {
        "colab": {
          "base_uri": "https://localhost:8080/",
          "height": 190
        },
        "id": "9jyvAFa-IRPp",
        "outputId": "0258b6d7-79f5-4635-c84e-5280b648d017"
      },
      "execution_count": null,
      "outputs": [
        {
          "output_type": "error",
          "ename": "NameError",
          "evalue": "ignored",
          "traceback": [
            "\u001b[0;31m---------------------------------------------------------------------------\u001b[0m",
            "\u001b[0;31mNameError\u001b[0m                                 Traceback (most recent call last)",
            "\u001b[0;32m<ipython-input-93-7ed8e50badda>\u001b[0m in \u001b[0;36m<module>\u001b[0;34m()\u001b[0m\n\u001b[1;32m      1\u001b[0m \u001b[0;32mdel\u001b[0m \u001b[0m변수\u001b[0m\u001b[0;34m\u001b[0m\u001b[0;34m\u001b[0m\u001b[0m\n\u001b[0;32m----> 2\u001b[0;31m \u001b[0mprint\u001b[0m\u001b[0;34m(\u001b[0m\u001b[0m변수\u001b[0m\u001b[0;34m)\u001b[0m\u001b[0;34m\u001b[0m\u001b[0;34m\u001b[0m\u001b[0m\n\u001b[0m",
            "\u001b[0;31mNameError\u001b[0m: name '변수' is not defined"
          ]
        }
      ]
    },
    {
      "cell_type": "code",
      "source": [
        "del 튜플[0]"
      ],
      "metadata": {
        "colab": {
          "base_uri": "https://localhost:8080/",
          "height": 172
        },
        "id": "gkxx2kIWIVBK",
        "outputId": "cb5a5063-394c-43dc-f242-3d3ecfd5d2dd"
      },
      "execution_count": null,
      "outputs": [
        {
          "output_type": "error",
          "ename": "TypeError",
          "evalue": "ignored",
          "traceback": [
            "\u001b[0;31m---------------------------------------------------------------------------\u001b[0m",
            "\u001b[0;31mTypeError\u001b[0m                                 Traceback (most recent call last)",
            "\u001b[0;32m<ipython-input-94-8f5d138528c9>\u001b[0m in \u001b[0;36m<module>\u001b[0;34m()\u001b[0m\n\u001b[0;32m----> 1\u001b[0;31m \u001b[0;32mdel\u001b[0m \u001b[0m튜플\u001b[0m\u001b[0;34m[\u001b[0m\u001b[0;36m0\u001b[0m\u001b[0;34m]\u001b[0m\u001b[0;34m\u001b[0m\u001b[0;34m\u001b[0m\u001b[0m\n\u001b[0m",
            "\u001b[0;31mTypeError\u001b[0m: 'tuple' object doesn't support item deletion"
          ]
        }
      ]
    },
    {
      "cell_type": "code",
      "source": [
        "튜플1=(1,2,3,[1,2,3])\n",
        "print(튜플1)\n",
        "튜플1[-1][0]=10\n",
        "print(튜플1)"
      ],
      "metadata": {
        "colab": {
          "base_uri": "https://localhost:8080/"
        },
        "id": "UFW_ZPQbIcbX",
        "outputId": "f35643c7-ca91-4082-dea4-89c28baaa2c4"
      },
      "execution_count": null,
      "outputs": [
        {
          "output_type": "stream",
          "name": "stdout",
          "text": [
            "(1, 2, 3, [1, 2, 3])\n",
            "(1, 2, 3, [10, 2, 3])\n"
          ]
        }
      ]
    },
    {
      "cell_type": "code",
      "source": [
        "print(type(배열))"
      ],
      "metadata": {
        "colab": {
          "base_uri": "https://localhost:8080/"
        },
        "id": "-w2hpvhSQknv",
        "outputId": "3abab74e-dc80-4e02-d312-a6d2e1e9e883"
      },
      "execution_count": null,
      "outputs": [
        {
          "output_type": "stream",
          "name": "stdout",
          "text": [
            "<class 'list'>\n"
          ]
        }
      ]
    },
    {
      "cell_type": "markdown",
      "source": [
        ""
      ],
      "metadata": {
        "id": "4l9dEp2KQjug"
      }
    },
    {
      "cell_type": "code",
      "source": [
        "튜플[:2]"
      ],
      "metadata": {
        "colab": {
          "base_uri": "https://localhost:8080/"
        },
        "id": "BpXIkQL0I6VY",
        "outputId": "729542a8-edb6-4707-c92d-6957f596408f"
      },
      "execution_count": null,
      "outputs": [
        {
          "output_type": "execute_result",
          "data": {
            "text/plain": [
              "(1, 2)"
            ]
          },
          "metadata": {},
          "execution_count": 100
        }
      ]
    },
    {
      "cell_type": "code",
      "source": [
        "딕셔너리={'키':'값'}\n",
        "print(딕셔너리)\n",
        "print(딕셔너리['키'])"
      ],
      "metadata": {
        "id": "oRl5Uzh8J_jk",
        "colab": {
          "base_uri": "https://localhost:8080/"
        },
        "outputId": "d48b17f9-49c3-4067-f17f-f440f12f3082"
      },
      "execution_count": null,
      "outputs": [
        {
          "output_type": "stream",
          "name": "stdout",
          "text": [
            "{'키': '값'}\n",
            "값\n"
          ]
        }
      ]
    },
    {
      "cell_type": "code",
      "source": [
        "print(type(딕셔너리))"
      ],
      "metadata": {
        "colab": {
          "base_uri": "https://localhost:8080/"
        },
        "id": "3GVfIiGwQNud",
        "outputId": "f19d58d0-de8c-4d2b-84b8-a9489e6c41b6"
      },
      "execution_count": null,
      "outputs": [
        {
          "output_type": "stream",
          "name": "stdout",
          "text": [
            "<class 'dict'>\n"
          ]
        }
      ]
    },
    {
      "cell_type": "code",
      "source": [
        "회원정보={\n",
        "    '이름':'김우진',\n",
        "    '번호':'010-0000-0000',\n",
        "    '성별':'남'\n",
        "}\n",
        "print(회원정보)"
      ],
      "metadata": {
        "colab": {
          "base_uri": "https://localhost:8080/"
        },
        "id": "lpFMYq2DQxKP",
        "outputId": "dc236950-7abe-460d-e477-1bbcef5e241f"
      },
      "execution_count": null,
      "outputs": [
        {
          "output_type": "stream",
          "name": "stdout",
          "text": [
            "{'이름': '김우진', '번호': '010-0000-0000', '성별': '남'}\n"
          ]
        }
      ]
    },
    {
      "cell_type": "code",
      "source": [
        "print(회원정보['이름'])\n",
        "print(회원정보['번호'])\n",
        "print(회원정보['성별'])"
      ],
      "metadata": {
        "colab": {
          "base_uri": "https://localhost:8080/"
        },
        "id": "fUn_3Iz8Q9Bp",
        "outputId": "60a9e9b3-f588-4f42-a150-c16b2515da20"
      },
      "execution_count": null,
      "outputs": [
        {
          "output_type": "stream",
          "name": "stdout",
          "text": [
            "김우진\n",
            "010-0000-0000\n",
            "남\n"
          ]
        }
      ]
    },
    {
      "cell_type": "code",
      "source": [
        "회원정보['주소']='제주시'\n",
        "print(회원정보)"
      ],
      "metadata": {
        "colab": {
          "base_uri": "https://localhost:8080/"
        },
        "id": "PDZYM-_qRSsy",
        "outputId": "37b64533-9248-4ef4-8106-201034878986"
      },
      "execution_count": null,
      "outputs": [
        {
          "output_type": "stream",
          "name": "stdout",
          "text": [
            "{'이름': '김우진', '번호': '010-0000-0000', '성별': '남', '주소': '제주시'}\n"
          ]
        }
      ]
    },
    {
      "cell_type": "code",
      "source": [
        "print(회원정보['주소'])"
      ],
      "metadata": {
        "colab": {
          "base_uri": "https://localhost:8080/"
        },
        "id": "2DylBqDKRacQ",
        "outputId": "b39bc076-61b4-4a28-9cc2-99b5796fa0e5"
      },
      "execution_count": null,
      "outputs": [
        {
          "output_type": "stream",
          "name": "stdout",
          "text": [
            "제주시\n"
          ]
        }
      ]
    },
    {
      "cell_type": "code",
      "source": [
        "회원정보['번호']='010-0000-0001'"
      ],
      "metadata": {
        "id": "7k3Fp3WDRfOi"
      },
      "execution_count": null,
      "outputs": []
    },
    {
      "cell_type": "code",
      "source": [
        "print(회원정보['번호'])"
      ],
      "metadata": {
        "colab": {
          "base_uri": "https://localhost:8080/"
        },
        "id": "QZNYPuV7RkZS",
        "outputId": "8d0f9594-9979-424b-8413-53e8b4a128a9"
      },
      "execution_count": null,
      "outputs": [
        {
          "output_type": "stream",
          "name": "stdout",
          "text": [
            "010-0000-0001\n"
          ]
        }
      ]
    },
    {
      "cell_type": "code",
      "source": [
        "print(회원정보)"
      ],
      "metadata": {
        "colab": {
          "base_uri": "https://localhost:8080/"
        },
        "id": "TbD9UbpLRnZn",
        "outputId": "f5c4ba1c-b894-41dd-b827-86f17a356ffe"
      },
      "execution_count": null,
      "outputs": [
        {
          "output_type": "stream",
          "name": "stdout",
          "text": [
            "{'이름': '김우진', '번호': '010-0000-0001', '성별': '남', '주소': '제주시'}\n"
          ]
        }
      ]
    },
    {
      "cell_type": "code",
      "source": [
        "회원정보2={'이름': '김우진','번호': '010-0000-0001','성별': '남','주소': '제주시','번호':'010-0000-0002'}"
      ],
      "metadata": {
        "id": "Ij8K-59lRqUg"
      },
      "execution_count": null,
      "outputs": []
    },
    {
      "cell_type": "code",
      "source": [
        "print(회원정보)"
      ],
      "metadata": {
        "colab": {
          "base_uri": "https://localhost:8080/"
        },
        "id": "lkDnj6N7R78l",
        "outputId": "ff997981-306b-4475-e204-077d5956244b"
      },
      "execution_count": null,
      "outputs": [
        {
          "output_type": "stream",
          "name": "stdout",
          "text": [
            "{'이름': '김우진', '번호': '010-0000-0001', '성별': '남', '주소': '제주시'}\n"
          ]
        }
      ]
    },
    {
      "cell_type": "code",
      "source": [
        "회원정보.keys()"
      ],
      "metadata": {
        "colab": {
          "base_uri": "https://localhost:8080/"
        },
        "id": "jgLNfvWGR-g0",
        "outputId": "59dcd29b-cf76-400e-a9b7-de45bc425178"
      },
      "execution_count": null,
      "outputs": [
        {
          "output_type": "execute_result",
          "data": {
            "text/plain": [
              "dict_keys(['이름', '번호', '성별', '주소'])"
            ]
          },
          "metadata": {},
          "execution_count": 116
        }
      ]
    },
    {
      "cell_type": "code",
      "source": [
        "dir(회원정보)"
      ],
      "metadata": {
        "colab": {
          "base_uri": "https://localhost:8080/"
        },
        "id": "zpJB-29TSJ4A",
        "outputId": "423faa32-2bd6-4604-ec16-579ea12bf8da"
      },
      "execution_count": null,
      "outputs": [
        {
          "output_type": "execute_result",
          "data": {
            "text/plain": [
              "['__class__',\n",
              " '__contains__',\n",
              " '__delattr__',\n",
              " '__delitem__',\n",
              " '__dir__',\n",
              " '__doc__',\n",
              " '__eq__',\n",
              " '__format__',\n",
              " '__ge__',\n",
              " '__getattribute__',\n",
              " '__getitem__',\n",
              " '__gt__',\n",
              " '__hash__',\n",
              " '__init__',\n",
              " '__init_subclass__',\n",
              " '__iter__',\n",
              " '__le__',\n",
              " '__len__',\n",
              " '__lt__',\n",
              " '__ne__',\n",
              " '__new__',\n",
              " '__reduce__',\n",
              " '__reduce_ex__',\n",
              " '__repr__',\n",
              " '__setattr__',\n",
              " '__setitem__',\n",
              " '__sizeof__',\n",
              " '__str__',\n",
              " '__subclasshook__',\n",
              " 'clear',\n",
              " 'copy',\n",
              " 'fromkeys',\n",
              " 'get',\n",
              " 'items',\n",
              " 'keys',\n",
              " 'pop',\n",
              " 'popitem',\n",
              " 'setdefault',\n",
              " 'update',\n",
              " 'values']"
            ]
          },
          "metadata": {},
          "execution_count": 117
        }
      ]
    },
    {
      "cell_type": "code",
      "source": [
        "회원정보키=회원정보.keys()\n",
        "회원정보값=회원정보.values()\n",
        "print(회원정보키,'키')\n",
        "print(회원정보값,'값')"
      ],
      "metadata": {
        "colab": {
          "base_uri": "https://localhost:8080/"
        },
        "id": "6iurqvAISQE1",
        "outputId": "f6fde074-8f8f-4d96-b8df-e207ec8991f5"
      },
      "execution_count": null,
      "outputs": [
        {
          "output_type": "stream",
          "name": "stdout",
          "text": [
            "dict_keys(['이름', '번호', '성별', '주소']) 키\n",
            "dict_values(['김우진', '010-0000-0001', '남', '제주시']) 값\n"
          ]
        }
      ]
    },
    {
      "cell_type": "code",
      "source": [
        "이름get=회원정보.get('이름')\n",
        "이름=회원정보['이름']\n",
        "print(이름get,'get이용')\n",
        "print(이름,'key이용하여 가져옴')"
      ],
      "metadata": {
        "colab": {
          "base_uri": "https://localhost:8080/"
        },
        "id": "gDW9gnbKSrJv",
        "outputId": "793ed9ae-c1a6-44cd-cc88-4a9e638d2d43"
      },
      "execution_count": null,
      "outputs": [
        {
          "output_type": "stream",
          "name": "stdout",
          "text": [
            "김우진 get이용\n",
            "김우진 key이용하여 가져옴\n"
          ]
        }
      ]
    },
    {
      "cell_type": "code",
      "source": [
        "샘플딕셔너리={\n",
        "    '배열1':[1,2,3]\n",
        "}\n",
        "배열get=샘플딕셔너리.get('배열2')\n"
      ],
      "metadata": {
        "id": "fPGJf6AbTVOo"
      },
      "execution_count": null,
      "outputs": []
    },
    {
      "cell_type": "code",
      "source": [
        "print(배열get)"
      ],
      "metadata": {
        "colab": {
          "base_uri": "https://localhost:8080/"
        },
        "id": "3jd9zuyXTeXi",
        "outputId": "d2df90f3-46a3-4de4-9428-97c7a14c514e"
      },
      "execution_count": null,
      "outputs": [
        {
          "output_type": "stream",
          "name": "stdout",
          "text": [
            "None\n"
          ]
        }
      ]
    },
    {
      "cell_type": "code",
      "source": [
        "'이름' in 회원정보"
      ],
      "metadata": {
        "colab": {
          "base_uri": "https://localhost:8080/"
        },
        "id": "lKd0pkc2TyN7",
        "outputId": "3dd36b45-9e3c-4c64-e7cb-f086493b6655"
      },
      "execution_count": null,
      "outputs": [
        {
          "output_type": "execute_result",
          "data": {
            "text/plain": [
              "True"
            ]
          },
          "metadata": {},
          "execution_count": 134
        }
      ]
    },
    {
      "cell_type": "code",
      "source": [
        "'직업' in 회원정보"
      ],
      "metadata": {
        "colab": {
          "base_uri": "https://localhost:8080/"
        },
        "id": "Je7DG3o8UQWK",
        "outputId": "4aea6272-1d56-4068-b389-0522c67246a9"
      },
      "execution_count": null,
      "outputs": [
        {
          "output_type": "execute_result",
          "data": {
            "text/plain": [
              "False"
            ]
          },
          "metadata": {},
          "execution_count": 135
        }
      ]
    },
    {
      "cell_type": "code",
      "source": [
        "print(True)"
      ],
      "metadata": {
        "colab": {
          "base_uri": "https://localhost:8080/"
        },
        "id": "3vYXLvd3UWGi",
        "outputId": "15c0c929-2fce-487a-dbf8-d6d60e9636d4"
      },
      "execution_count": null,
      "outputs": [
        {
          "output_type": "stream",
          "name": "stdout",
          "text": [
            "True\n"
          ]
        }
      ]
    },
    {
      "cell_type": "code",
      "source": [
        "print(type(True))"
      ],
      "metadata": {
        "colab": {
          "base_uri": "https://localhost:8080/"
        },
        "id": "gRwFcn4lUsox",
        "outputId": "fb5dddcc-853f-47d8-b318-171b0d73ff79"
      },
      "execution_count": null,
      "outputs": [
        {
          "output_type": "stream",
          "name": "stdout",
          "text": [
            "<class 'bool'>\n"
          ]
        }
      ]
    },
    {
      "cell_type": "code",
      "source": [
        "print(False)"
      ],
      "metadata": {
        "colab": {
          "base_uri": "https://localhost:8080/"
        },
        "id": "QaAaZ8GIUyL8",
        "outputId": "ae76b181-cb77-4703-9a6c-5ff56938e8a8"
      },
      "execution_count": null,
      "outputs": [
        {
          "output_type": "stream",
          "name": "stdout",
          "text": [
            "False\n"
          ]
        }
      ]
    },
    {
      "cell_type": "code",
      "source": [
        "print(type(False))"
      ],
      "metadata": {
        "colab": {
          "base_uri": "https://localhost:8080/"
        },
        "id": "gfg0KDx3U4T6",
        "outputId": "e3abce1e-265e-4609-a170-03d81a6b7981"
      },
      "execution_count": null,
      "outputs": [
        {
          "output_type": "stream",
          "name": "stdout",
          "text": [
            "<class 'bool'>\n"
          ]
        }
      ]
    },
    {
      "cell_type": "code",
      "source": [
        "숫자1=10\n",
        "숫자2=20"
      ],
      "metadata": {
        "id": "JPYvOtDtU7r1"
      },
      "execution_count": null,
      "outputs": []
    },
    {
      "cell_type": "code",
      "source": [
        "결과1=숫자1<숫자2\n",
        "print(결과1)"
      ],
      "metadata": {
        "colab": {
          "base_uri": "https://localhost:8080/"
        },
        "id": "5BkEbb0eVLsL",
        "outputId": "eee5894e-774f-47a7-ce36-bc7ed4eb9ed2"
      },
      "execution_count": null,
      "outputs": [
        {
          "output_type": "stream",
          "name": "stdout",
          "text": [
            "True\n"
          ]
        }
      ]
    },
    {
      "cell_type": "code",
      "source": [
        "결과2=숫자1>숫자2\n",
        "print(결과2)"
      ],
      "metadata": {
        "colab": {
          "base_uri": "https://localhost:8080/"
        },
        "id": "gmjVf0OYVRys",
        "outputId": "ca8f7c76-ad85-47b6-f445-d4eb54fbb68b"
      },
      "execution_count": null,
      "outputs": [
        {
          "output_type": "stream",
          "name": "stdout",
          "text": [
            "False\n"
          ]
        }
      ]
    },
    {
      "cell_type": "code",
      "source": [
        "결과3=숫자1>=숫자2\n",
        "결과4=숫자1<=숫자2\n",
        "결과5=숫자1==숫자2\n",
        "결과6=숫자2!=숫자2"
      ],
      "metadata": {
        "id": "JVrXnLMHVTuN"
      },
      "execution_count": null,
      "outputs": []
    },
    {
      "cell_type": "code",
      "source": [
        "if False:\n",
        "  print(\"거짓입니다.\")"
      ],
      "metadata": {
        "id": "CtgdEStDVt4D"
      },
      "execution_count": null,
      "outputs": []
    },
    {
      "cell_type": "code",
      "source": [
        "if True:\n",
        "  print('참입니다.')"
      ],
      "metadata": {
        "colab": {
          "base_uri": "https://localhost:8080/"
        },
        "id": "6pFd8y9AWom3",
        "outputId": "a94548e5-d52d-47fe-b6b6-510849cc9593"
      },
      "execution_count": null,
      "outputs": [
        {
          "output_type": "stream",
          "name": "stdout",
          "text": [
            "참입니다.\n"
          ]
        }
      ]
    },
    {
      "cell_type": "code",
      "source": [
        "not True"
      ],
      "metadata": {
        "colab": {
          "base_uri": "https://localhost:8080/"
        },
        "id": "3R_s_6B8Wtoi",
        "outputId": "24aa1253-cc11-42f4-86a4-0798563678df"
      },
      "execution_count": null,
      "outputs": [
        {
          "output_type": "execute_result",
          "data": {
            "text/plain": [
              "False"
            ]
          },
          "metadata": {},
          "execution_count": 154
        }
      ]
    },
    {
      "cell_type": "code",
      "source": [
        "조건=False\n",
        "if not 조건:\n",
        "  print('거짓입니다')\n",
        "else:\n",
        "  print('조건에 맞는것이 없습니다')"
      ],
      "metadata": {
        "colab": {
          "base_uri": "https://localhost:8080/"
        },
        "id": "of3QqTvBW4dv",
        "outputId": "96f3a9de-492d-483c-e99f-6b97164df657"
      },
      "execution_count": null,
      "outputs": [
        {
          "output_type": "stream",
          "name": "stdout",
          "text": [
            "거짓입니다\n"
          ]
        }
      ]
    },
    {
      "cell_type": "code",
      "source": [
        "조건=True\n",
        "if not 조건:\n",
        "  print('거짓입니다')\n",
        "else:\n",
        "  print('조건에 맞는것이 없습니다')"
      ],
      "metadata": {
        "colab": {
          "base_uri": "https://localhost:8080/"
        },
        "id": "lx3MpHI2W-dp",
        "outputId": "75da3093-9642-4950-d1f7-c76d2f7d3cb4"
      },
      "execution_count": null,
      "outputs": [
        {
          "output_type": "stream",
          "name": "stdout",
          "text": [
            "조건에 맞는것이 없습니다\n"
          ]
        }
      ]
    },
    {
      "cell_type": "code",
      "source": [
        "숫자1=1\n",
        "숫자2=10\n",
        "숫자3=15\n",
        "\n",
        "if 숫자1>5:\n",
        "  print('숫자1이 5보다 큽니다')\n",
        "elif 숫자2<11:\n",
        "  print('숫자2가 11보다 작습니다')\n",
        "else:\n",
        "  print(숫자3,'마지막숫자입니다')"
      ],
      "metadata": {
        "colab": {
          "base_uri": "https://localhost:8080/"
        },
        "id": "tGk_g-NeXbDh",
        "outputId": "91d62b94-6a99-453e-9995-0c7ce7a9c112"
      },
      "execution_count": null,
      "outputs": [
        {
          "output_type": "stream",
          "name": "stdout",
          "text": [
            "숫자2가 11보다 작습니다\n"
          ]
        }
      ]
    },
    {
      "cell_type": "code",
      "source": [
        "print(False and False)"
      ],
      "metadata": {
        "colab": {
          "base_uri": "https://localhost:8080/"
        },
        "id": "zSJ88oMcYFVu",
        "outputId": "5b0aba10-6439-45cb-d9e5-5fa1ab991821"
      },
      "execution_count": null,
      "outputs": [
        {
          "output_type": "stream",
          "name": "stdout",
          "text": [
            "False\n"
          ]
        }
      ]
    },
    {
      "cell_type": "code",
      "source": [
        "print(True and False)"
      ],
      "metadata": {
        "colab": {
          "base_uri": "https://localhost:8080/"
        },
        "id": "Al6x2sPxZCcs",
        "outputId": "27080354-3cc4-4063-be23-51e6f229609c"
      },
      "execution_count": null,
      "outputs": [
        {
          "output_type": "stream",
          "name": "stdout",
          "text": [
            "False\n"
          ]
        }
      ]
    },
    {
      "cell_type": "code",
      "source": [
        "숫자1=1\n",
        "숫자2=10\n",
        "숫자3=15\n",
        "\n",
        "if 숫자1>5 or 숫자2<11:\n",
        "  print('숫자1이 5보다 큽니다.또는 숫자2가 11보다 작습니다.')\n",
        "else:\n",
        "  print(숫자3,'마지막숫자입니다')"
      ],
      "metadata": {
        "colab": {
          "base_uri": "https://localhost:8080/"
        },
        "id": "U1Uxs-JOZGIP",
        "outputId": "ab81d2bf-5036-46d8-fc0c-482827a4d99f"
      },
      "execution_count": null,
      "outputs": [
        {
          "output_type": "stream",
          "name": "stdout",
          "text": [
            "숫자1이 5보다 큽니다.또는 숫자2가 11보다 작습니다.\n"
          ]
        }
      ]
    },
    {
      "cell_type": "code",
      "source": [
        "입력받은값=input()"
      ],
      "metadata": {
        "colab": {
          "base_uri": "https://localhost:8080/"
        },
        "id": "wqq7u-7gZj_o",
        "outputId": "10938740-d499-4ccc-c715-799aa5bddcdf"
      },
      "execution_count": null,
      "outputs": [
        {
          "name": "stdout",
          "output_type": "stream",
          "text": [
            "10\n"
          ]
        }
      ]
    },
    {
      "cell_type": "code",
      "source": [
        "print(입력받은값)"
      ],
      "metadata": {
        "colab": {
          "base_uri": "https://localhost:8080/"
        },
        "id": "S-VAIAWJZzEJ",
        "outputId": "2a23ce4d-80b8-4e26-8bdc-e86ff3a7b5ce"
      },
      "execution_count": null,
      "outputs": [
        {
          "output_type": "stream",
          "name": "stdout",
          "text": [
            "10\n"
          ]
        }
      ]
    },
    {
      "cell_type": "code",
      "source": [
        "print(입력받은값>5)"
      ],
      "metadata": {
        "colab": {
          "base_uri": "https://localhost:8080/",
          "height": 172
        },
        "id": "g-wVehL8Z4nG",
        "outputId": "26b19c47-af13-4bfb-fb2c-cd20b013a307"
      },
      "execution_count": null,
      "outputs": [
        {
          "output_type": "error",
          "ename": "TypeError",
          "evalue": "ignored",
          "traceback": [
            "\u001b[0;31m---------------------------------------------------------------------------\u001b[0m",
            "\u001b[0;31mTypeError\u001b[0m                                 Traceback (most recent call last)",
            "\u001b[0;32m<ipython-input-169-3413a196d0a9>\u001b[0m in \u001b[0;36m<module>\u001b[0;34m()\u001b[0m\n\u001b[0;32m----> 1\u001b[0;31m \u001b[0mprint\u001b[0m\u001b[0;34m(\u001b[0m\u001b[0m입력받은값\u001b[0m\u001b[0;34m>\u001b[0m\u001b[0;36m5\u001b[0m\u001b[0;34m)\u001b[0m\u001b[0;34m\u001b[0m\u001b[0;34m\u001b[0m\u001b[0m\n\u001b[0m",
            "\u001b[0;31mTypeError\u001b[0m: '>' not supported between instances of 'str' and 'int'"
          ]
        }
      ]
    },
    {
      "cell_type": "code",
      "source": [
        "print(type(입력받은값))"
      ],
      "metadata": {
        "colab": {
          "base_uri": "https://localhost:8080/"
        },
        "id": "lterGDErZ8MN",
        "outputId": "b90a902a-188c-46ad-c6ee-08a4f44b06d8"
      },
      "execution_count": null,
      "outputs": [
        {
          "output_type": "stream",
          "name": "stdout",
          "text": [
            "<class 'str'>\n"
          ]
        }
      ]
    },
    {
      "cell_type": "code",
      "source": [
        "입력받은수=int(입력받은값)"
      ],
      "metadata": {
        "id": "m1XXGMMDafNV"
      },
      "execution_count": null,
      "outputs": []
    },
    {
      "cell_type": "code",
      "source": [
        "print(type(입력받은수))"
      ],
      "metadata": {
        "colab": {
          "base_uri": "https://localhost:8080/"
        },
        "id": "tf3FXYxCamV5",
        "outputId": "66d797a9-0775-4ba0-8a7f-ced5960b0265"
      },
      "execution_count": null,
      "outputs": [
        {
          "output_type": "stream",
          "name": "stdout",
          "text": [
            "<class 'int'>\n"
          ]
        }
      ]
    },
    {
      "cell_type": "code",
      "source": [
        "첫번째숫자=input()\n",
        "두번째숫자=input()\n",
        "첫번째수=int(첫번째숫자)\n",
        "두번째수=int(두번째숫자)\n",
        "if 첫번째수>두번째수:\n",
        "  print('첫번째숫자가 큽니다')\n",
        "elif 첫번째수==두번째수:\n",
        "  print('숫자가 같습니다')\n",
        "else:\n",
        "  print('두번째 숫자가 큽니다')"
      ],
      "metadata": {
        "colab": {
          "base_uri": "https://localhost:8080/"
        },
        "id": "FkICWh_QapvB",
        "outputId": "a13f4482-44ac-41e3-ac4e-9e77826a1924"
      },
      "execution_count": null,
      "outputs": [
        {
          "output_type": "stream",
          "name": "stdout",
          "text": [
            "4\n",
            "6\n",
            "두번째 숫자가 큽니다\n"
          ]
        }
      ]
    },
    {
      "cell_type": "code",
      "source": [
        "카운트=0\n",
        "while 카운트<10:\n",
        "  print(카운트)\n",
        "  카운트=카운트+1\n",
        "  if 카운트>5:\n",
        "    break"
      ],
      "metadata": {
        "colab": {
          "base_uri": "https://localhost:8080/"
        },
        "id": "VqUZn1xsbQz1",
        "outputId": "9d75c5e0-4159-455c-fff1-a7c2d6b0b813"
      },
      "execution_count": null,
      "outputs": [
        {
          "output_type": "stream",
          "name": "stdout",
          "text": [
            "0\n",
            "1\n",
            "2\n",
            "3\n",
            "4\n",
            "5\n"
          ]
        }
      ]
    },
    {
      "cell_type": "code",
      "source": [
        "카운트=0\n",
        "while 카운트<10:\n",
        "  카운트=카운트+1\n",
        "  if 카운트==1:\n",
        "    continue\n",
        "  if 카운트%2==1:\n",
        "    print(카운트)"
      ],
      "metadata": {
        "colab": {
          "base_uri": "https://localhost:8080/"
        },
        "id": "x_oZaT8afgd-",
        "outputId": "22b2c3e8-5383-4b4e-bf86-ad830c921d00"
      },
      "execution_count": null,
      "outputs": [
        {
          "output_type": "stream",
          "name": "stdout",
          "text": [
            "3\n",
            "5\n",
            "7\n",
            "9\n"
          ]
        }
      ]
    },
    {
      "cell_type": "code",
      "source": [
        "for 숫자 in [10,1,2,3,4]:\n",
        "  print(숫자)"
      ],
      "metadata": {
        "colab": {
          "base_uri": "https://localhost:8080/"
        },
        "id": "VzRvN8ruhEpn",
        "outputId": "00fbc2e3-6aa5-45d5-aa3f-3885e22fb74c"
      },
      "execution_count": null,
      "outputs": [
        {
          "output_type": "stream",
          "name": "stdout",
          "text": [
            "10\n",
            "1\n",
            "2\n",
            "3\n",
            "4\n"
          ]
        }
      ]
    },
    {
      "cell_type": "code",
      "source": [
        "레인지= range(10)\n",
        "print(레인지)"
      ],
      "metadata": {
        "colab": {
          "base_uri": "https://localhost:8080/"
        },
        "id": "TRJLYJ20h0aM",
        "outputId": "a5be1bb8-9cd8-426a-e763-a0bdfa4ceb4c"
      },
      "execution_count": null,
      "outputs": [
        {
          "output_type": "stream",
          "name": "stdout",
          "text": [
            "range(0, 10)\n"
          ]
        }
      ]
    },
    {
      "cell_type": "code",
      "source": [
        "for 숫자 in range(10):\n",
        "  print(숫자)"
      ],
      "metadata": {
        "colab": {
          "base_uri": "https://localhost:8080/"
        },
        "id": "F2wuRzR8icMF",
        "outputId": "85fc6b61-b58f-4027-c9a0-a8a2bc0fd2c8"
      },
      "execution_count": null,
      "outputs": [
        {
          "output_type": "stream",
          "name": "stdout",
          "text": [
            "0\n",
            "1\n",
            "2\n",
            "3\n",
            "4\n",
            "5\n",
            "6\n",
            "7\n",
            "8\n",
            "9\n"
          ]
        }
      ]
    },
    {
      "cell_type": "code",
      "source": [
        "for 숫자 in range(2,3):\n",
        "  for 숫자2 in range(1,1):\n",
        "    식=str(숫자)+'X'+str(숫자2)+'='\n",
        "    결과=숫자*숫자2\n",
        "    print(식,결과)\n",
        "    "
      ],
      "metadata": {
        "id": "ppNAloNSiqeg"
      },
      "execution_count": null,
      "outputs": []
    },
    {
      "cell_type": "code",
      "source": [
        "가=0\n",
        "\n",
        "while True:\n",
        "  a=int(input())\n",
        "  if a==0:\n",
        "    print('종료')\n",
        "    break\n",
        "  for 숫자 in range(1,10):\n",
        "    print(a,'X',숫자,'=',a*숫자)"
      ],
      "metadata": {
        "colab": {
          "base_uri": "https://localhost:8080/"
        },
        "id": "8EWb_sdojEz7",
        "outputId": "ffe936e7-5419-4621-c80e-5c5fe27033eb"
      },
      "execution_count": null,
      "outputs": [
        {
          "output_type": "stream",
          "name": "stdout",
          "text": [
            "-0\n",
            "종료\n"
          ]
        }
      ]
    },
    {
      "cell_type": "code",
      "source": [
        "while True:\n",
        "  입력값=input()\n",
        "  입력숫자=int(입력값)\n",
        "  if 입력숫자==0:\n",
        "    break\n",
        "  if 입력숫자<0 or 입력숫자>9:\n",
        "    print(\"1부터 9까지만 가능\")\n",
        "    continue\n",
        "  print('곱한거 출력할거입')"
      ],
      "metadata": {
        "colab": {
          "base_uri": "https://localhost:8080/"
        },
        "id": "yL9awe13l9gO",
        "outputId": "cd23132a-f6f4-4932-8291-e932041d548e"
      },
      "execution_count": null,
      "outputs": [
        {
          "output_type": "stream",
          "name": "stdout",
          "text": [
            "3\n",
            "곱한거 출력할거입\n",
            "4\n",
            "곱한거 출력할거입\n",
            "1\n",
            "곱한거 출력할거입\n",
            "1\n",
            "0\n",
            "곱한거 출력할거입\n"
          ]
        }
      ]
    },
    {
      "cell_type": "code",
      "source": [
        ""
      ],
      "metadata": {
        "id": "SUoxeOMcpQN6"
      },
      "execution_count": null,
      "outputs": []
    },
    {
      "cell_type": "code",
      "source": [
        ""
      ],
      "metadata": {
        "id": "9UIQCUXQpn3m"
      },
      "execution_count": null,
      "outputs": []
    }
  ]
}